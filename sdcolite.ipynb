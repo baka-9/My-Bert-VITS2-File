{
  "cells": [
    {
      "cell_type": "markdown",
      "metadata": {
        "id": "view-in-github"
      },
      "source": [
        "[![Open In Colab](https://colab.research.google.com/assets/colab-badge.svg)](https://colab.research.google.com/github/camenduru/{a}-diffusion-webui-colab/blob/main/lite/{a}_diffusion_webui_colab.ipynb)"
      ]
    },
    {
      "cell_type": "code",
      "execution_count": null,
      "metadata": {
        "id": "SaAJk33ppFw1"
      },
      "outputs": [],
      "source": [
        "%cd /content\n",
        "a=\"stable\"\n",
        "b=\"Stable\"\n",
        "c=\"sd\"\n",
        "\n",
        "%env TF_CPP_MIN_LOG_LEVEL=1\n",
        "\n",
        "!apt -y update -qq\n",
        "!wget https://github.com/camenduru/gperftools/releases/download/v1.0/libtcmalloc_minimal.so.4 -O /content/libtcmalloc_minimal.so.4\n",
        "%env LD_PRELOAD=/content/libtcmalloc_minimal.so.4\n",
        "\n",
        "!apt -y install -qq aria2\n",
        "!pip install -q torch==2.0.1+cu118 torchvision==0.15.2+cu118 torchaudio==2.0.2+cu118 torchtext==0.15.2 torchdata==0.6.1 --extra-index-url https://download.pytorch.org/whl/cu118 -U\n",
        "!pip install -q xformers==0.0.20 triton==2.0.0 gradio_client==0.2.7 -U\n",
        "\n",
        "!git clone -b v2.7 https://github.com/camenduru/{a}-diffusion-webui\n",
        "!git clone https://huggingface.co/embed/negative /content/{a}-diffusion-webui/embeddings/negative\n",
        "!git clone https://huggingface.co/embed/lora /content/{a}-diffusion-webui/models/Lora/positive\n",
        "!aria2c --console-log-level=error -c -x 16 -s 16 -k 1M https://huggingface.co/embed/upscale/resolve/main/4x-UltraSharp.pth -d /content/{a}-diffusion-webui/models/ESRGAN -o 4x-UltraSharp.pth\n",
        "!wget https://raw.githubusercontent.com/camenduru/{a}-diffusion-webui-scripts/main/run_n_times.py -O /content/{a}-diffusion-webui/scripts/run_n_times.py\n",
        "!git clone https://github.com/camenduru/deforum-for-automatic1111-webui /content/{a}-diffusion-webui/extensions/deforum-for-automatic1111-webui\n",
        "!git clone https://github.com/camenduru/{a}-diffusion-webui-images-browser /content/{a}-diffusion-webui/extensions/{a}-diffusion-webui-images-browser\n",
        "!git clone https://github.com/camenduru/{a}-diffusion-webui-huggingface /content/{a}-diffusion-webui/extensions/{a}-diffusion-webui-huggingface\n",
        "!git clone https://github.com/camenduru/{c}-civitai-browser /content/{a}-diffusion-webui/extensions/{c}-civitai-browser\n",
        "!git clone https://github.com/camenduru/{c}-webui-additional-networks /content/{a}-diffusion-webui/extensions/{c}-webui-additional-networks\n",
        "!git clone https://github.com/camenduru/{c}-webui-tunnels /content/{a}-diffusion-webui/extensions/{c}-webui-tunnels\n",
        "!git clone https://github.com/camenduru/batchlinks-webui /content/{a}-diffusion-webui/extensions/batchlinks-webui\n",
        "!git clone https://github.com/camenduru/{a}-diffusion-webui-catppuccin /content/{a}-diffusion-webui/extensions/{a}-diffusion-webui-catppuccin\n",
        "!git clone https://github.com/camenduru/{a}-diffusion-webui-two-shot /content/{a}-diffusion-webui/extensions/{a}-diffusion-webui-two-shot\n",
        "!git clone https://github.com/camenduru/{c}-webui-aspect-ratio-helper /content/{a}-diffusion-webui/extensions/{c}-webui-aspect-ratio-helper\n",
        "!git clone https://github.com/camenduru/asymmetric-tiling-{c}-webui /content/{a}-diffusion-webui/extensions/asymmetric-tiling-{c}-webui\n",
        "%cd /content/{a}-diffusion-webui\n",
        "!git reset --hard\n",
        "!git -C /content/{a}-diffusion-webui/repositories/{a}-diffusion-stability-ai reset --hard\n",
        "\n",
        "!aria2c --console-log-level=error -c -x 16 -s 16 -k 1M https://huggingface.co/ckpt/{c}14/resolve/main/{c}-v1-4.ckpt -d /content/{a}-diffusion-webui/models/{b}-diffusion -o {c}-v1-4.ckpt\n",
        "\n",
        "!sed -i -e 's/\\[\"{c}_model_checkpoint\"\\]/\\[\"{c}_model_checkpoint\",\"{c}_vae\",\"CLIP_stop_at_last_layers\"\\]/g' /content/{a}-diffusion-webui/modules/shared_options.py"
      ]
    }
  ],
  "metadata": {
    "accelerator": "GPU",
    "colab": {
      "collapsed_sections": [],
      "private_outputs": true,
      "provenance": []
    },
    "gpuClass": "standard",
    "kernelspec": {
      "display_name": "Python 3",
      "name": "python3"
    },
    "language_info": {
      "name": "python"
    }
  },
  "nbformat": 4,
  "nbformat_minor": 0
}
